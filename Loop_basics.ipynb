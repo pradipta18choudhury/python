{
 "cells": [
  {
   "cell_type": "code",
   "execution_count": 3,
   "metadata": {},
   "outputs": [
    {
     "name": "stdout",
     "output_type": "stream",
     "text": [
      "5\n",
      "1\n",
      "2\n",
      "3\n",
      "4\n",
      "5\n"
     ]
    }
   ],
   "source": [
    "# working of simple while loop\n",
    "i=int(input())\n",
    "l=1\n",
    "while l<=i :\n",
    "    print (l)\n",
    "    l=l+1"
   ]
  },
  {
   "cell_type": "code",
   "execution_count": 5,
   "metadata": {},
   "outputs": [
    {
     "name": "stdout",
     "output_type": "stream",
     "text": [
      "5\n",
      "1\n",
      "2\n",
      "3\n",
      "4\n",
      "5\n"
     ]
    }
   ],
   "source": [
    "# range function use in loop\n",
    "# syntax of range(start,end,step)\n",
    "n=int(input())\n",
    "for i in range(1,n+1) :\n",
    "    print(i)"
   ]
  },
  {
   "cell_type": "code",
   "execution_count": 6,
   "metadata": {},
   "outputs": [
    {
     "name": "stdout",
     "output_type": "stream",
     "text": [
      "5\n",
      "0\n",
      "1\n",
      "2\n",
      "3\n",
      "4\n",
      "5\n"
     ]
    }
   ],
   "source": [
    "# by default range starts from '0' so if we don't write also it automatically takes\n",
    "n=int(input())\n",
    "for i in range(n+1) :\n",
    "    print(i)"
   ]
  },
  {
   "cell_type": "code",
   "execution_count": 9,
   "metadata": {},
   "outputs": [
    {
     "name": "stdout",
     "output_type": "stream",
     "text": [
      "31\n",
      "prime\n"
     ]
    }
   ],
   "source": [
    "# program to check for prime number\n",
    "n=int(input())\n",
    "flag=True\n",
    "for i in range(2,n) :\n",
    "    if n%i==0 :\n",
    "        flag=False\n",
    "if flag:\n",
    "    print('prime')\n",
    "else :\n",
    "    print('not prime')"
   ]
  },
  {
   "cell_type": "code",
   "execution_count": 13,
   "metadata": {},
   "outputs": [
    {
     "name": "stdout",
     "output_type": "stream",
     "text": [
      "s\n",
      "a\n",
      "m\n",
      "r\n",
      "a\n",
      "t\n"
     ]
    }
   ],
   "source": [
    "name=\"samrat\"\n",
    "for i in name:\n",
    "    print(i)\n",
    "    "
   ]
  },
  {
   "cell_type": "code",
   "execution_count": 14,
   "metadata": {},
   "outputs": [
    {
     "name": "stdout",
     "output_type": "stream",
     "text": [
      "5\n",
      "1         1\n",
      "12       21\n",
      "123     321\n",
      "1234   4321\n",
      "12345 54321\n"
     ]
    }
   ],
   "source": [
    "# pattern printing\n",
    "n=int(input())\n",
    "for i in range(1,n+1):\n",
    "    for j in range(1,i+1):\n",
    "        print(j,end=\"\")\n",
    "    for k in range(2*i,2*n+1):\n",
    "        print(\" \",end=\"\")\n",
    "    for m in range(i,0,-1):\n",
    "        print(m,end=\"\")\n",
    "    print()\n",
    "\n"
   ]
  },
  {
   "cell_type": "code",
   "execution_count": 15,
   "metadata": {},
   "outputs": [
    {
     "name": "stdout",
     "output_type": "stream",
     "text": [
      "2\n",
      "3\n",
      "5\n"
     ]
    }
   ],
   "source": [
    "#function\n",
    "def sum(a,b) :\n",
    "    z=a+b\n",
    "    return z\n",
    "a=int(input())\n",
    "b=int(input())\n",
    "x=sum(a,b)\n",
    "print(x)"
   ]
  },
  {
   "cell_type": "code",
   "execution_count": 16,
   "metadata": {},
   "outputs": [
    {
     "name": "stdout",
     "output_type": "stream",
     "text": [
      "100\n"
     ]
    }
   ],
   "source": [
    "# defaults argument to a function\n",
    "#this means if one argument comes then default one will come into play,otherwise the user input will come into play\n",
    "def power(x,y=2):\n",
    "    return x**y\n",
    "print(power(10))"
   ]
  },
  {
   "cell_type": "code",
   "execution_count": 17,
   "metadata": {},
   "outputs": [
    {
     "name": "stdout",
     "output_type": "stream",
     "text": [
      "6\n",
      "5\n",
      "13\n",
      "15\n"
     ]
    },
    {
     "data": {
      "text/plain": [
       "17"
      ]
     },
     "execution_count": 17,
     "metadata": {},
     "output_type": "execute_result"
    }
   ],
   "source": [
    "def sum3(a=12,b=1,c=2):\n",
    "    return a+b+c\n",
    "print(sum3(1,2,3))\n",
    "print(sum3(1,2))\n",
    "print(sum3(10))\n",
    "print(sum3())\n",
    "sum3(b=3)"
   ]
  },
  {
   "cell_type": "code",
   "execution_count": null,
   "metadata": {},
   "outputs": [],
   "source": []
  },
  {
   "cell_type": "code",
   "execution_count": null,
   "metadata": {},
   "outputs": [],
   "source": []
  }
 ],
 "metadata": {
  "kernelspec": {
   "display_name": "Python 3",
   "language": "python",
   "name": "python3"
  },
  "language_info": {
   "codemirror_mode": {
    "name": "ipython",
    "version": 3
   },
   "file_extension": ".py",
   "mimetype": "text/x-python",
   "name": "python",
   "nbconvert_exporter": "python",
   "pygments_lexer": "ipython3",
   "version": "3.8.5"
  }
 },
 "nbformat": 4,
 "nbformat_minor": 4
}
