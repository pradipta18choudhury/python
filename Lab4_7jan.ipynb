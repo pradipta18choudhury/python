{
 "cells": [
  {
   "cell_type": "code",
   "execution_count": 3,
   "metadata": {},
   "outputs": [
    {
     "name": "stdout",
     "output_type": "stream",
     "text": [
      "['apple', 'banana', 'cherry', 'banana']\n",
      "4\n"
     ]
    }
   ],
   "source": [
    "# list is a collection ,where duplicate items are also allowed\n",
    "mylist=[\"apple\",\"banana\",\"cherry\",\"banana\"]\n",
    "print(mylist)\n",
    "print(len(mylist))"
   ]
  },
  {
   "cell_type": "code",
   "execution_count": 16,
   "metadata": {},
   "outputs": [
    {
     "name": "stdout",
     "output_type": "stream",
     "text": [
      "99\n",
      "3\n",
      "426\n",
      "[3, 10, 20, 44, 60, 60, 60, 70, 99]\n",
      "3\n",
      "[10, 20, 3, 60, 44, 60, 60, 70, 99, 100]\n",
      "[10, 20, 80, 3, 60, 44, 60, 60, 70, 99, 100]\n",
      "3\n",
      "[10, 20, 80, 3, 60, 44, 60, 60, 70, 99, 100, 'apple', 'banana']\n",
      "[10, 20, 80, 3, 60, 44, 60, 60, 70, 99, 100, 'banana']\n"
     ]
    }
   ],
   "source": [
    "l=[10,20,3,60,44,60,60,70,99]\n",
    "print(max(l)) #maximum value\n",
    "print(min(l)) #minimum value\n",
    "print(sum(l)) #gives sum of all element\n",
    "print(sorted(l)) #arrange in ascending order\n",
    "print(l[2]) #gives particular index value\n",
    "l.append(100)# adds only one 1 element at the last of list\n",
    "print(l)\n",
    "l.insert(2,80) #by writing insert we can insert at particular position\n",
    "print(l)\n",
    "print(l.count(60)) # returns number of times the particular element is present in list\n",
    "l.extend([\"apple\",\"banana\"]) # we can add multiple items at the last of a list\n",
    "print(l)\n",
    "l.remove(\"apple\")\n",
    "print(l)\n"
   ]
  },
  {
   "cell_type": "code",
   "execution_count": 20,
   "metadata": {},
   "outputs": [
    {
     "name": "stdout",
     "output_type": "stream",
     "text": [
      "[99, 70, 60, 60, 44, 60, 3, 20, 10]\n",
      "[]\n"
     ]
    }
   ],
   "source": [
    "l=[10,20,3,60,44,60,60,70,99]\n",
    "l.reverse()\n",
    "# this function reverse all elements in reverse\n",
    "print(l)\n",
    "l.clear()\n",
    "# this function clears all the element of the lisr\n",
    "print(l)"
   ]
  },
  {
   "cell_type": "code",
   "execution_count": 24,
   "metadata": {},
   "outputs": [
    {
     "name": "stdout",
     "output_type": "stream",
     "text": [
      "(10, 20, 3, 60, 44, 60, 60, 70, 99)\n",
      "[10, 20, 3, 60, 44, 60, 60, 70, 99]\n",
      "['h', 'e', 'l', 'l', 'o']\n"
     ]
    }
   ],
   "source": [
    "# tuple\n",
    "# tuple are unchangeable\n",
    "l=[10,20,3,60,44,60,60,70,99]\n",
    "t=tuple(l) #converts into tuple\n",
    "print(t)\n",
    "r=list(t)\n",
    "print(r) # converts into list\n",
    "i=\"hello\"\n",
    "a=list(i) # hello is stored as a string in the list\n",
    "print(a)"
   ]
  },
  {
   "cell_type": "code",
   "execution_count": 25,
   "metadata": {},
   "outputs": [
    {
     "name": "stdout",
     "output_type": "stream",
     "text": [
      "<class 'list'>\n"
     ]
    }
   ],
   "source": [
    "mylist=[\"apple\",]\n",
    "print(type(mylist))"
   ]
  },
  {
   "cell_type": "code",
   "execution_count": 26,
   "metadata": {},
   "outputs": [
    {
     "name": "stdout",
     "output_type": "stream",
     "text": [
      "<class 'tuple'>\n"
     ]
    }
   ],
   "source": [
    "mylist=(\"apple\",)\n",
    "print(type(mylist))"
   ]
  },
  {
   "cell_type": "code",
   "execution_count": 27,
   "metadata": {},
   "outputs": [
    {
     "name": "stdout",
     "output_type": "stream",
     "text": [
      "<class 'str'>\n"
     ]
    }
   ],
   "source": [
    "mylist=(\"apple\")\n",
    "print(type(mylist))"
   ]
  },
  {
   "cell_type": "code",
   "execution_count": 34,
   "metadata": {},
   "outputs": [
    {
     "name": "stdout",
     "output_type": "stream",
     "text": [
      "[1, 2, 3]\n"
     ]
    }
   ],
   "source": [
    "# python program to copy a list\n",
    "\n",
    "a=[1,2,3]\n",
    "b=a\n",
    "print(b)"
   ]
  },
  {
   "cell_type": "code",
   "execution_count": 29,
   "metadata": {},
   "outputs": [
    {
     "name": "stdout",
     "output_type": "stream",
     "text": [
      "('apple', 'banana', 'cherry')\n"
     ]
    }
   ],
   "source": [
    "# program to create a tupple\n",
    "mytupple=(\"apple\",\"banana\",\"cherry\")\n",
    "print(mytupple)"
   ]
  },
  {
   "cell_type": "code",
   "execution_count": 30,
   "metadata": {},
   "outputs": [
    {
     "name": "stdout",
     "output_type": "stream",
     "text": [
      "1\n"
     ]
    }
   ],
   "source": [
    "# Write a Python program to create a tuple with numbers and print one item.\n",
    "bag=(1,2,3,4,5)\n",
    "print(bag[0])"
   ]
  },
  {
   "cell_type": "code",
   "execution_count": 32,
   "metadata": {},
   "outputs": [
    {
     "name": "stdout",
     "output_type": "stream",
     "text": [
      "136\n"
     ]
    }
   ],
   "source": [
    "# add all the items of the list without using sum function. Minimum item is 15\n",
    "sum=0\n",
    "mylist=[1,2,3,4,5,6,7,11,55,78,45,8,9,3,5,7]\n",
    "for i in range(1,len(mylist)+1):\n",
    "    sum=sum+i\n",
    "print(sum)"
   ]
  },
  {
   "cell_type": "code",
   "execution_count": 35,
   "metadata": {},
   "outputs": [
    {
     "name": "stdout",
     "output_type": "stream",
     "text": [
      "2\n"
     ]
    }
   ],
   "source": [
    "# index of a particular element\n",
    "a=[10,20,30,40]\n",
    "print(a.index(30))"
   ]
  },
  {
   "cell_type": "code",
   "execution_count": 37,
   "metadata": {},
   "outputs": [
    {
     "name": "stdout",
     "output_type": "stream",
     "text": [
      "[40, 50, 30, 10, 20]\n"
     ]
    }
   ],
   "source": [
    "# shuffle function used to randomly shuffle the elements of a list\n",
    "import random\n",
    "mylist=[10,20,30,40,50]\n",
    "random.shuffle(mylist)\n",
    "print(mylist)"
   ]
  },
  {
   "cell_type": "code",
   "execution_count": null,
   "metadata": {},
   "outputs": [],
   "source": []
  },
  {
   "cell_type": "code",
   "execution_count": null,
   "metadata": {},
   "outputs": [],
   "source": []
  }
 ],
 "metadata": {
  "kernelspec": {
   "display_name": "Python 3",
   "language": "python",
   "name": "python3"
  },
  "language_info": {
   "codemirror_mode": {
    "name": "ipython",
    "version": 3
   },
   "file_extension": ".py",
   "mimetype": "text/x-python",
   "name": "python",
   "nbconvert_exporter": "python",
   "pygments_lexer": "ipython3",
   "version": "3.8.5"
  }
 },
 "nbformat": 4,
 "nbformat_minor": 4
}
