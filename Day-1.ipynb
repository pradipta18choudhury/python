{
 "cells": [
  {
   "cell_type": "code",
   "execution_count": 3,
   "metadata": {},
   "outputs": [
    {
     "name": "stdout",
     "output_type": "stream",
     "text": [
      "1 4 5 2 3 6 "
     ]
    }
   ],
   "source": [
    "# wave print\n",
    "# pattern follows:down-up-dowm....\n",
    "l1=[[1,2,3],[4,5,6]]\n",
    "n=len(l1) #row\n",
    "m=len(l1[0]) # column\n",
    "\n",
    "for j in range(m):\n",
    "    if j%2==0:\n",
    "        for i in range(n):\n",
    "            print(l1[i][j],end=\" \")\n",
    "    else:\n",
    "        i=n-1\n",
    "        while(i>=0):\n",
    "            print(l1[i][j],end=\" \")\n",
    "            i=i-1\n",
    "\n"
   ]
  },
  {
   "cell_type": "code",
   "execution_count": 4,
   "metadata": {},
   "outputs": [
    {
     "name": "stdout",
     "output_type": "stream",
     "text": [
      "1 4 5 2 3 6 "
     ]
    }
   ],
   "source": [
    "# another way of printing wave\n",
    "l1=[[1,2,3],[4,5,6]]\n",
    "n=len(l1) #row\n",
    "m=len(l1[0]) # column\n",
    "\n",
    "for j in range(m):\n",
    "    if j%2==0:\n",
    "        for i in range(n):\n",
    "            print(l1[i][j],end=\" \")\n",
    "    else:\n",
    "        for i in range(n-1,-1,-1):\n",
    "            print(l1[i][j],end=\" \")\n"
   ]
  },
  {
   "cell_type": "code",
   "execution_count": 5,
   "metadata": {},
   "outputs": [
    {
     "name": "stdout",
     "output_type": "stream",
     "text": [
      "   weight  year\n",
      "0      10  2100\n",
      "1      34  2300\n",
      "2      67  2400\n"
     ]
    }
   ],
   "source": [
    "# dataframe helps in tabular structure\n",
    "import pandas as pd\n",
    "d={\n",
    "    \"weight\":[10,34,67],\n",
    "    \"year\":[2100,2300,2400]\n",
    "}\n",
    "print(pd.DataFrame(d))"
   ]
  },
  {
   "cell_type": "code",
   "execution_count": null,
   "metadata": {},
   "outputs": [],
   "source": [
    "switcher={\n",
    "    0:\"even number\",\n",
    "    1:\"odd number\"\n",
    "}\n",
    "i=int(input())\n"
   ]
  },
  {
   "cell_type": "code",
   "execution_count": null,
   "metadata": {},
   "outputs": [],
   "source": [
    "import pandas as pd\n",
    "d={\n",
    "    \"play\":[\"game\",\"cricket\"],\n",
    "    \"year\":\n",
    "}"
   ]
  },
  {
   "cell_type": "code",
   "execution_count": null,
   "metadata": {},
   "outputs": [],
   "source": []
  },
  {
   "cell_type": "code",
   "execution_count": null,
   "metadata": {},
   "outputs": [],
   "source": []
  },
  {
   "cell_type": "code",
   "execution_count": null,
   "metadata": {},
   "outputs": [],
   "source": []
  },
  {
   "cell_type": "code",
   "execution_count": null,
   "metadata": {},
   "outputs": [],
   "source": []
  }
 ],
 "metadata": {
  "kernelspec": {
   "display_name": "Python 3",
   "language": "python",
   "name": "python3"
  },
  "language_info": {
   "codemirror_mode": {
    "name": "ipython",
    "version": 3
   },
   "file_extension": ".py",
   "mimetype": "text/x-python",
   "name": "python",
   "nbconvert_exporter": "python",
   "pygments_lexer": "ipython3",
   "version": "3.8.5"
  }
 },
 "nbformat": 4,
 "nbformat_minor": 4
}
