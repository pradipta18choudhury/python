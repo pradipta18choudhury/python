{
 "cells": [
  {
   "cell_type": "code",
   "execution_count": 2,
   "metadata": {},
   "outputs": [
    {
     "name": "stdout",
     "output_type": "stream",
     "text": [
      "11 is a prime number\n",
      "11 is a prime number\n",
      "11 is a prime number\n",
      "11 is a prime number\n",
      "11 is a prime number\n",
      "11 is a prime number\n",
      "11 is a prime number\n",
      "11 is a prime number\n",
      "11 is a prime number\n"
     ]
    }
   ],
   "source": [
    "# Python program to check if\n",
    "# given number is prime or not\n",
    "\n",
    "num = 11\n",
    "\n",
    "# If given number is greater than 1\n",
    "if num > 1:\n",
    "\n",
    "    # Iterate from 2 to n / 2\n",
    "    for i in range(2, num):\n",
    "\n",
    "        # If num is divisible by any number between\n",
    "        # 2 and n / 2, it is not prime\n",
    "        if (num % i) == 0:\n",
    "            print(num, \"is not a prime number\")\n",
    "            break\n",
    "        else:\n",
    "            print(num, \"is a prime number\")\n",
    "\n",
    "else:\n",
    "    print(num, \"is not a prime number\")\n"
   ]
  },
  {
   "cell_type": "code",
   "execution_count": 3,
   "metadata": {},
   "outputs": [
    {
     "name": "stdout",
     "output_type": "stream",
     "text": [
      "1\n",
      "2\n",
      "3\n",
      "n3 is greater\n"
     ]
    }
   ],
   "source": [
    "#program to find greatest of 3 numbers\n",
    "n1=int(input())\n",
    "n2=int(input())\n",
    "n3=int(input())\n",
    "\n",
    "if n1>n2 and n1>n3 :\n",
    "    print('n1 is greater')\n",
    "elif n2>n3 and n2>n1 :\n",
    "    print('n2 is greater')\n",
    "else :\n",
    "    print('n3 is greater')"
   ]
  },
  {
   "cell_type": "code",
   "execution_count": 4,
   "metadata": {},
   "outputs": [
    {
     "name": "stdout",
     "output_type": "stream",
     "text": [
      "Leap Year\n"
     ]
    }
   ],
   "source": [
    "# Python program to check leap year or not\n",
    "def checkYear(year):\n",
    "    if (year % 4) == 0:\n",
    "        if (year % 100) == 0:\n",
    "            if (year % 400) == 0:\n",
    "                return True\n",
    "            else:\n",
    "                return False\n",
    "        else:\n",
    "            return True\n",
    "    else:\n",
    "        return False\n",
    "\n",
    "\n",
    "# Driver Code\n",
    "year = 2000\n",
    "if (checkYear(year)):\n",
    "    print(\"Leap Year\")\n",
    "else:\n",
    "    print(\"Not a Leap Year\")"
   ]
  },
  {
   "cell_type": "code",
   "execution_count": 7,
   "metadata": {},
   "outputs": [
    {
     "name": "stdout",
     "output_type": "stream",
     "text": [
      "5\n",
      "120\n"
     ]
    }
   ],
   "source": [
    "#factorial of a number\n",
    "import math\n",
    "n=int(input())\n",
    "print(math.factorial(n))"
   ]
  },
  {
   "cell_type": "code",
   "execution_count": 11,
   "metadata": {},
   "outputs": [
    {
     "name": "stdout",
     "output_type": "stream",
     "text": [
      "4\n",
      "4 X 1 = 4\n",
      "4 X 2 = 8\n",
      "4 X 3 = 12\n",
      "4 X 4 = 16\n",
      "4 X 5 = 20\n",
      "4 X 6 = 24\n",
      "4 X 7 = 28\n",
      "4 X 8 = 32\n",
      "4 X 9 = 36\n",
      "4 X 10 = 40\n"
     ]
    }
   ],
   "source": [
    "n=int(input())\n",
    "for i in range(1,11) :\n",
    "    print(n,\"X\",i,\"=\",n*i)"
   ]
  },
  {
   "cell_type": "code",
   "execution_count": 18,
   "metadata": {},
   "outputs": [
    {
     "name": "stdout",
     "output_type": "stream",
     "text": [
      "Fibonacci sequence:\n",
      "0\n",
      "1\n",
      "1\n",
      "2\n",
      "3\n",
      "5\n",
      "8\n",
      "13\n",
      "21\n",
      "34\n"
     ]
    }
   ],
   "source": [
    "def recur_fibo(n):\n",
    "   if n <= 1:\n",
    "       return n\n",
    "   else:\n",
    "       return(recur_fibo(n-1) + recur_fibo(n-2))\n",
    "\n",
    "nterms = 10\n",
    "\n",
    "# check if the number of terms is valid\n",
    "if nterms <= 0:\n",
    "   print(\"Plese enter a positive integer\")\n",
    "else:\n",
    "   print(\"Fibonacci sequence:\")\n",
    "   for i in range(nterms):\n",
    "       print(recur_fibo(i))"
   ]
  },
  {
   "cell_type": "code",
   "execution_count": 20,
   "metadata": {},
   "outputs": [
    {
     "name": "stdout",
     "output_type": "stream",
     "text": [
      "153\n",
      "True\n"
     ]
    }
   ],
   "source": [
    "# Python program to determine whether \n",
    "# the number is Armstrong number or not \n",
    "\n",
    "# Function to calculate x raised to \n",
    "# the power y \n",
    "def power(x, y): \n",
    "\t\n",
    "\tif y == 0: \n",
    "\t\treturn 1\n",
    "\tif y % 2 == 0: \n",
    "\t\treturn power(x, y // 2) * power(x, y // 2) \n",
    "\t\t\n",
    "\treturn x * power(x, y // 2) * power(x, y // 2) \n",
    "\n",
    "# Function to calculate order of the number \n",
    "def order(x): \n",
    "\n",
    "\t# Variable to store of the number \n",
    "\tn = 0\n",
    "\twhile (x != 0): \n",
    "\t\tn = n + 1\n",
    "\t\tx = x // 10\n",
    "\t\t\n",
    "\treturn n \n",
    "\n",
    "# Function to check whether the given \n",
    "# number is Armstrong number or not \n",
    "def isArmstrong(x): \n",
    "\t\n",
    "\tn = order(x) \n",
    "\ttemp = x \n",
    "\tsum1 = 0\n",
    "\t\n",
    "\twhile (temp != 0): \n",
    "\t\tr = temp % 10\n",
    "\t\tsum1 = sum1 + power(r, n) \n",
    "\t\ttemp = temp // 10\n",
    "\n",
    "\t# If condition satisfies \n",
    "\treturn (sum1 == x) \n",
    "\n",
    "# Driver code \n",
    "x = int(input())\n",
    "print(isArmstrong(x)) \n",
    "\n",
    "#x = 1253\n",
    "#print(isArmstrong(x)) \n"
   ]
  },
  {
   "cell_type": "code",
   "execution_count": null,
   "metadata": {},
   "outputs": [],
   "source": []
  }
 ],
 "metadata": {
  "kernelspec": {
   "display_name": "Python 3",
   "language": "python",
   "name": "python3"
  },
  "language_info": {
   "codemirror_mode": {
    "name": "ipython",
    "version": 3
   },
   "file_extension": ".py",
   "mimetype": "text/x-python",
   "name": "python",
   "nbconvert_exporter": "python",
   "pygments_lexer": "ipython3",
   "version": "3.8.5"
  }
 },
 "nbformat": 4,
 "nbformat_minor": 4
}
