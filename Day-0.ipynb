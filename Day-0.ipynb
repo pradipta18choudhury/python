{
 "cells": [
  {
   "cell_type": "code",
   "execution_count": 5,
   "metadata": {},
   "outputs": [
    {
     "name": "stdout",
     "output_type": "stream",
     "text": [
      "Before sort:\n",
      "[2, 5, 4, 1, 3]\n",
      "after sort\n",
      "[1, 2, 3, 4, 5]\n"
     ]
    }
   ],
   "source": [
    "# bubble sort\n",
    "print(\"Before sort:\")\n",
    "l=[2,5,4,1,3]\n",
    "print(l)\n",
    "n=len(l)\n",
    "for i in range(n-1):\n",
    "    for j in range (n-1-i):\n",
    "        if l[j]>l[j+1]:\n",
    "            t=l[j]\n",
    "            l[j]=l[j+1]\n",
    "            l[j+1]=t\n",
    "          \n",
    "print(\"after sort\")\n",
    "print(l)"
   ]
  },
  {
   "cell_type": "code",
   "execution_count": 3,
   "metadata": {},
   "outputs": [
    {
     "name": "stdout",
     "output_type": "stream",
     "text": [
      "[[1, 2, 3], [4, 5, 6], True]\n",
      "2\n"
     ]
    }
   ],
   "source": [
    "# 2d lists\n",
    "mylist=[[1,2,3],[4,5,6],True]\n",
    "print(mylist)\n",
    "print(mylist[0][1])"
   ]
  },
  {
   "cell_type": "code",
   "execution_count": 14,
   "metadata": {},
   "outputs": [
    {
     "name": "stdout",
     "output_type": "stream",
     "text": [
      "[1, 2, 3, 4, 5, 6, 7, 8, 9]\n",
      "[[0, 0, 0], [0, 0, 0], [0, 0, 0], [0, 0, 0], [0, 0, 0]]\n",
      "[[0, 1, 2, 3, 4], [0, 1, 2, 3, 4], [0, 1, 2, 3, 4], [0, 1, 2, 3, 4], [0, 1, 2, 3, 4], [0, 1, 2, 3, 4], [0, 1, 2, 3, 4], [0, 1, 2, 3, 4], [0, 1, 2, 3, 4], [0, 1, 2, 3, 4]]\n",
      "[[0, 1, 2, 3, 4], [5, 6, 7, 8, 9], [10, 11, 12, 13, 14], [15, 16, 17, 18, 19], [20, 21, 22, 23, 24], [25, 26, 27, 28, 29], [30, 31, 32, 33, 34], [35, 36, 37, 38, 39], [40, 41, 42, 43, 44], [45, 46, 47, 48, 49]]\n"
     ]
    }
   ],
   "source": [
    "# creating 2d arrays\n",
    "l=[i for i in range(1,10)]#1D list\n",
    "print(l)\n",
    "\n",
    "#way:1\n",
    "m=[[0,0,0] for i in range(5)]\n",
    "print(m)\n",
    "\n",
    "\n",
    "#way:2\n",
    "# in every line its taking from 0-4 and total 10 lines is created considering the last provided range\n",
    "n=[[j for j in range(5)]for i in range(10)]\n",
    "print(n)\n",
    "\n",
    "\n",
    "#way:3\n",
    "p=[[5*i+j for j in range(5)]for i in range(10)]\n",
    "print(p)"
   ]
  },
  {
   "cell_type": "code",
   "execution_count": 64,
   "metadata": {},
   "outputs": [
    {
     "name": "stdout",
     "output_type": "stream",
     "text": [
      "2 3\n",
      "1 2 3 4 5 6\n",
      "[[1, 2, 3], [3, 4, 5]]\n",
      "[[1, 2, 3], [3, 4, 5]]\n"
     ]
    }
   ],
   "source": [
    "#take input in 2D list\n",
    "#m->rows\n",
    "#n->columns\n",
    "str=input().strip().split(\" \")\n",
    "m=int(str[0])\n",
    "n=int(str[1])\n",
    "\n",
    "\n",
    "#we are converting the string list ito integer\n",
    "l=[int(i)for i in input().strip().split(\" \")]\n",
    "\n",
    "out=[]\n",
    "for i in range(m):\n",
    "    out.append([])\n",
    "    for j in range(n):\n",
    "        out[i].append(l[i*m+j])\n",
    "        \n",
    "print(out)\n",
    "\n",
    "\n",
    "#2nd way:\n",
    "out=[[l[i*m+j]for j in range(n)]for i in range(m)]\n",
    "print(out)"
   ]
  },
  {
   "cell_type": "code",
   "execution_count": 60,
   "metadata": {},
   "outputs": [
    {
     "name": "stdout",
     "output_type": "stream",
     "text": [
      "set()\n",
      "<class 'set'>\n",
      "{2, (3, 4)}\n",
      "{11, 2, 10, (3, 4)}\n",
      "samrat pradipta choudhury {1, 2, 3, 4, 5, 6}\n",
      "{1, 2, 3, 5, 6}\n",
      "{2, 3, 5, 6}\n",
      "{2, 3, 5, 6, 10}\n"
     ]
    }
   ],
   "source": [
    "s1=set()\n",
    "print(s1)\n",
    "print(type(s1))\n",
    "s1.add(2)\n",
    "s1.add((3,4))\n",
    "print(s1)\n",
    "\n",
    "s1.update([10,11])\n",
    "print(s1)\n",
    "\n",
    "#in set duplicate elements get removed automatically\n",
    "s2=set([\"pradipta\",\"choudhury\",\"samrat\",\"choudhury\"])\n",
    "for i in s2:\n",
    "    print(i,end=\" \")\n",
    "#print(s2)\n",
    "\n",
    "#remove elements from set by remove() and discard() command\n",
    "s3=set([1,2,3,4,3,5,6,4])\n",
    "print(s3)\n",
    "s3.remove(4)\n",
    "print(s3)\n",
    "s3.discard(1)\n",
    "print(s3)\n",
    "s3.add(10)\n",
    "print(s3)"
   ]
  },
  {
   "cell_type": "code",
   "execution_count": 48,
   "metadata": {},
   "outputs": [
    {
     "name": "stdout",
     "output_type": "stream",
     "text": [
      "{'start': '11-1-21', 'end': '1-3-21'}\n",
      "{'start': '11-1-21', 'end': '1-3-21', 'year': '2021'}\n",
      "{'start': '11-1-21', 'end': '1-3-21', 'year': '2021', 'status': 'ongoing'}\n",
      "{'start': '11-1-21', 'end': '1-3-21', 'status': 'ongoing'}\n",
      "{'name': 'pradipta', 'alu': 'samrat'}\n"
     ]
    }
   ],
   "source": [
    "#dictionary\n",
    "d1={\n",
    "    \"start\":\"11-1-21\",\n",
    "    \"end\":\"1-3-21\"\n",
    "}\n",
    "print(d1)\n",
    "d1['year']=\"2021\"\n",
    "print(d1)\n",
    "\n",
    "#add element from a dictionary\n",
    "d1['status']=\"ongoing\"\n",
    "print(d1)\n",
    "\n",
    "#delete particular element in dictionary\n",
    "del d1['year']\n",
    "print(d1)\n",
    "\n",
    "#merge dictionary\n",
    "d1={'name':'pradipta'}\n",
    "d2={'alu':'samrat'}\n",
    "d1.update(d2)\n",
    "print(d1)"
   ]
  },
  {
   "cell_type": "code",
   "execution_count": 51,
   "metadata": {},
   "outputs": [
    {
     "name": "stdout",
     "output_type": "stream",
     "text": [
      "1\n",
      "3\n",
      "5\n",
      "7\n",
      "9\n"
     ]
    }
   ],
   "source": [
    "for i in range(1,11,2):\n",
    "    print(i)"
   ]
  },
  {
   "cell_type": "code",
   "execution_count": 55,
   "metadata": {},
   "outputs": [
    {
     "name": "stdout",
     "output_type": "stream",
     "text": [
      "1,2,3,4,5,6,7,9,"
     ]
    }
   ],
   "source": [
    "#iterating in lists\n",
    "for i in [1,2,3,4,5,6,7,9]:\n",
    "    print(i,end=\",\")\n"
   ]
  },
  {
   "cell_type": "code",
   "execution_count": 57,
   "metadata": {},
   "outputs": [
    {
     "name": "stdout",
     "output_type": "stream",
     "text": [
      "a\n",
      "b\n",
      "c\n",
      "d\n"
     ]
    }
   ],
   "source": [
    "l1={\"a\":1,\"b\":2,\"c\":3,\"d\":4}\n",
    "for i in l1.keys():\n",
    "    print(i)\n",
    "    \n",
    "for i in l1.items():\n",
    "    p"
   ]
  },
  {
   "cell_type": "code",
   "execution_count": 62,
   "metadata": {},
   "outputs": [
    {
     "name": "stdout",
     "output_type": "stream",
     "text": [
      "[]\n"
     ]
    },
    {
     "data": {
      "text/plain": [
       "[2]"
      ]
     },
     "execution_count": 62,
     "metadata": {},
     "output_type": "execute_result"
    }
   ],
   "source": [
    "#list\n",
    "s=[]\n",
    "print(s)\n",
    "s.append(2)\n",
    "s"
   ]
  },
  {
   "cell_type": "code",
   "execution_count": 63,
   "metadata": {},
   "outputs": [
    {
     "name": "stdout",
     "output_type": "stream",
     "text": [
      "{'d', 't', 'a', 'p', 'r', 'i'}\n"
     ]
    }
   ],
   "source": [
    "s1=set(\"pradipta\")\n",
    "print(s1)"
   ]
  },
  {
   "cell_type": "code",
   "execution_count": null,
   "metadata": {},
   "outputs": [],
   "source": [
    "s1=[\"a\",\"b\",\"c\",\"d\",\"e\",\"f\",\"g\"]\n",
    "s="
   ]
  }
 ],
 "metadata": {
  "kernelspec": {
   "display_name": "Python 3",
   "language": "python",
   "name": "python3"
  },
  "language_info": {
   "codemirror_mode": {
    "name": "ipython",
    "version": 3
   },
   "file_extension": ".py",
   "mimetype": "text/x-python",
   "name": "python",
   "nbconvert_exporter": "python",
   "pygments_lexer": "ipython3",
   "version": "3.8.5"
  }
 },
 "nbformat": 4,
 "nbformat_minor": 4
}
