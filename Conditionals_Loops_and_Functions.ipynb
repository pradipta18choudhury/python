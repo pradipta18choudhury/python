{
 "cells": [
  {
   "cell_type": "code",
   "execution_count": 8,
   "metadata": {},
   "outputs": [
    {
     "name": "stdout",
     "output_type": "stream",
     "text": [
      "I EVOL UOYNone\n"
     ]
    }
   ],
   "source": [
    "from sys import stdin\n",
    "\n",
    "# program to reverse each word of a string\n",
    "def reverseEachWord(string): \n",
    "    st = list() \n",
    "  \n",
    "    # Traverse given string and push all characters \n",
    "    # to stack until we see a space. \n",
    "    for i in range(len(string)): \n",
    "        if string[i] != \" \": \n",
    "            st.append(string[i]) \n",
    "        else: \n",
    "            while len(st) > 0: \n",
    "                print(st[-1], end= \"\") \n",
    "                st.pop() \n",
    "            print(end = \" \") \n",
    "    while len(st) > 0: \n",
    "        print(st[-1], end = \"\") \n",
    "        st.pop() \n",
    "\n",
    "#main\n",
    "string =\"I LOVE YOU\"\n",
    "ans = reverseEachWord(string)\n",
    "print(ans)"
   ]
  }
 ],
 "metadata": {
  "kernelspec": {
   "display_name": "Python 3",
   "language": "python",
   "name": "python3"
  },
  "language_info": {
   "codemirror_mode": {
    "name": "ipython",
    "version": 3
   },
   "file_extension": ".py",
   "mimetype": "text/x-python",
   "name": "python",
   "nbconvert_exporter": "python",
   "pygments_lexer": "ipython3",
   "version": "3.8.5"
  }
 },
 "nbformat": 4,
 "nbformat_minor": 4
}
