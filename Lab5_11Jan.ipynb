{
 "cells": [
  {
   "cell_type": "code",
   "execution_count": 1,
   "metadata": {},
   "outputs": [
    {
     "name": "stdout",
     "output_type": "stream",
     "text": [
      "{'banana', 'cherry', 'apple'}\n"
     ]
    }
   ],
   "source": [
    "# sets are used to store multiple items in single variable\n",
    "# the output is unordered\n",
    "# unchangeable\n",
    "myset={\"apple\",\"banana\",\"cherry\"}\n",
    "print(myset)"
   ]
  },
  {
   "cell_type": "code",
   "execution_count": 3,
   "metadata": {},
   "outputs": [
    {
     "name": "stdout",
     "output_type": "stream",
     "text": [
      "{'banana', 'cherry', 'apple'}\n",
      "3\n"
     ]
    }
   ],
   "source": [
    "a={\"apple\",\"apple\",\"banana\",\"cherry\"}\n",
    "# duplicacy is removed and not allwed\n",
    "print(a)\n",
    "print(len(a))"
   ]
  },
  {
   "cell_type": "code",
   "execution_count": 5,
   "metadata": {},
   "outputs": [
    {
     "name": "stdout",
     "output_type": "stream",
     "text": [
      "{'banana', 'cherry', 'apple'}\n",
      "<class 'set'>\n",
      "{1, 2, 3, 4}\n",
      "{False, True}\n"
     ]
    }
   ],
   "source": [
    "#can contain multiple types of data\n",
    "s1={\"apple\",\"banana\",\"cherry\"}\n",
    "s2={1,2,3,4}\n",
    "s3={True,False,True,True}\n",
    "print(s1)\n",
    "print(type(s1)) # gives the type\n",
    "print(s2)\n",
    "print(s3)"
   ]
  },
  {
   "cell_type": "code",
   "execution_count": 7,
   "metadata": {},
   "outputs": [
    {
     "name": "stdout",
     "output_type": "stream",
     "text": [
      "{'brand': 'ford', 'model': 'mustang', 'colour': 'blue'}\n",
      "ford\n"
     ]
    }
   ],
   "source": [
    "#dictionary\n",
    "#it can hold value\n",
    "#it is changeable\n",
    "# duplicacy is not allowed\n",
    "mydict={\"brand\":\"ford\",\"model\":\"mustang\",\"colour\":\"blue\"}\n",
    "print(mydict)\n",
    "print(mydict[\"brand\"])"
   ]
  },
  {
   "cell_type": "code",
   "execution_count": 8,
   "metadata": {},
   "outputs": [
    {
     "name": "stdout",
     "output_type": "stream",
     "text": [
      "{'brand': 'ford', 'coloue': 'blue', 'year': '2020'}\n"
     ]
    }
   ],
   "source": [
    "mydict={\n",
    "    \"brand\":\"ford\",\n",
    "    \"coloue\":\"blue\",\n",
    "    \"year\":\"1234\",\n",
    "    \"year\":\"2020\"\n",
    "}\n",
    "# year gets overlapped\n",
    "print(mydict)"
   ]
  },
  {
   "cell_type": "code",
   "execution_count": 9,
   "metadata": {},
   "outputs": [
    {
     "name": "stdout",
     "output_type": "stream",
     "text": [
      "{'brand': 'ford', 'coloue': 'blue', 'year': ['1230', '2346']}\n"
     ]
    }
   ],
   "source": [
    "#key contain multiple values\n",
    "mydict={\n",
    "    \"brand\":\"ford\",\n",
    "    \"coloue\":\"blue\",\n",
    "    \"year\":[\"1230\",\"2346\"]\n",
    "    \n",
    "}\n",
    "# year gets overlapped\n",
    "print(mydict)"
   ]
  },
  {
   "cell_type": "code",
   "execution_count": 10,
   "metadata": {},
   "outputs": [
    {
     "name": "stdout",
     "output_type": "stream",
     "text": [
      "dict_keys(['brand', 'coloue', 'year'])\n",
      "{'brand': 'ford', 'coloue': 'blue', 'year': '1234'}\n"
     ]
    }
   ],
   "source": [
    "mydict={\n",
    "    \"brand\":\"ford\",\n",
    "    \"coloue\":\"blue\",\n",
    "    \"year\":\"1234\"\n",
    "    #\"year\":\"2020\"\n",
    "}\n",
    "x=mydict.keys()\n",
    "print(x)\n",
    "# year gets overlapped\n",
    "print(mydict)"
   ]
  },
  {
   "cell_type": "code",
   "execution_count": 11,
   "metadata": {},
   "outputs": [
    {
     "name": "stdout",
     "output_type": "stream",
     "text": [
      "{'brand': 'ford', 'coloue': 'blue', 'year': '1234'}\n",
      "{'brand': 'ford', 'coloue': 'blue'}\n"
     ]
    }
   ],
   "source": [
    "mydict={\n",
    "    \"brand\":\"ford\",\n",
    "    \"coloue\":\"blue\",\n",
    "    \"year\":\"1234\"\n",
    "}\n",
    "\n",
    "# year gets overlapped\n",
    "print(mydict)\n",
    "mydict.popitem()\n",
    "# last item gets removed\n",
    "print(mydict)"
   ]
  },
  {
   "cell_type": "code",
   "execution_count": 12,
   "metadata": {},
   "outputs": [
    {
     "name": "stdout",
     "output_type": "stream",
     "text": [
      "b is greater\n"
     ]
    }
   ],
   "source": [
    "a=23\n",
    "b=200\n",
    "if b>a:\n",
    "    print(\"b is greater\")#indentation"
   ]
  },
  {
   "cell_type": "code",
   "execution_count": 13,
   "metadata": {},
   "outputs": [],
   "source": [
    "# pass statement\n",
    "# it just completes the if statement\n",
    "a=23\n",
    "b=200\n",
    "if b>a:\n",
    "    pass"
   ]
  },
  {
   "cell_type": "code",
   "execution_count": 15,
   "metadata": {},
   "outputs": [
    {
     "name": "stdout",
     "output_type": "stream",
     "text": [
      "7\n",
      "the area of circle is:\n",
      "153.86\n"
     ]
    }
   ],
   "source": [
    "# area of circle\n",
    "r=int(input())\n",
    "print(\"the area of circle is:\")\n",
    "print(3.14*r*r)"
   ]
  },
  {
   "cell_type": "code",
   "execution_count": 18,
   "metadata": {},
   "outputs": [
    {
     "name": "stdout",
     "output_type": "stream",
     "text": [
      "before interchange:\n",
      "[1, 2, 3, 4, 5]\n",
      "after interchange:\n",
      "[5, 2, 3, 4, 1]\n"
     ]
    }
   ],
   "source": [
    "# interchange first and last element in a list\n",
    "a=[1,2,3,4,5]\n",
    "print(\"before interchange:\")\n",
    "print(a)\n",
    "b=a[0]\n",
    "a[0]=a[4]\n",
    "a[4]=b\n",
    "print(\"after interchange:\")\n",
    "print(a)"
   ]
  },
  {
   "cell_type": "code",
   "execution_count": 27,
   "metadata": {},
   "outputs": [
    {
     "name": "stdout",
     "output_type": "stream",
     "text": [
      "6\n"
     ]
    }
   ],
   "source": [
    "#multiply all numbers in a list\n",
    "def multiplyList(myList) :\n",
    "     \n",
    "    # Multiply elements one by one\n",
    "    result = 1\n",
    "    for x in myList:\n",
    "         result = result * x \n",
    "    return result \n",
    "     \n",
    "# Driver code\n",
    "list1 = [1, 2, 3] \n",
    "print(multiplyList(list1))"
   ]
  },
  {
   "cell_type": "code",
   "execution_count": 28,
   "metadata": {},
   "outputs": [
    {
     "name": "stdout",
     "output_type": "stream",
     "text": [
      "[1, 2, 3, 4, 5]\n"
     ]
    }
   ],
   "source": [
    "# copying a list\n",
    "a=[1,2,3,4,5]\n",
    "b=a\n",
    "print(b)"
   ]
  },
  {
   "cell_type": "code",
   "execution_count": 31,
   "metadata": {},
   "outputs": [
    {
     "name": "stdout",
     "output_type": "stream",
     "text": [
      "{'school': 'KVS', 'year': '2017', 'colour': 'yellow'}\n",
      "{'school': 'KVS', 'colour': 'yellow'}\n",
      "{'school': 'KVS', 'year': '2017', 'colour': 'yellow'}\n",
      "{'school': 'KVS', 'year': '2017'}\n",
      "{'school': 'KVS', 'year': '2017', 'colour': 'yellow'}\n",
      "{'year': '2017', 'colour': 'yellow'}\n"
     ]
    }
   ],
   "source": [
    "# ways to remove from a dictionary\n",
    "# The pop() method removes the item with the specified key name:\n",
    "mydict={\n",
    "    \"school\":\"KVS\",\n",
    "    \"year\":\"2017\",\n",
    "    \"colour\":\"yellow\"\n",
    "}\n",
    "print(mydict)\n",
    "mydict.pop(\"year\")\n",
    "print(mydict)\n",
    "\n",
    "# The popitem() method removes the last inserted item\n",
    "mydict={\n",
    "    \"school\":\"KVS\",\n",
    "    \"year\":\"2017\",\n",
    "    \"colour\":\"yellow\"\n",
    "}\n",
    "print(mydict)\n",
    "mydict.popitem()\n",
    "print(mydict)\n",
    "\n",
    "# The del keyword removes the item with the specified key name:\n",
    "mydict={\n",
    "    \"school\":\"KVS\",\n",
    "    \"year\":\"2017\",\n",
    "    \"colour\":\"yellow\"\n",
    "}\n",
    "print(mydict)\n",
    "del mydict[\"school\"]\n",
    "print(mydict)"
   ]
  },
  {
   "cell_type": "code",
   "execution_count": 42,
   "metadata": {},
   "outputs": [
    {
     "name": "stdout",
     "output_type": "stream",
     "text": [
      "{'name': 'pradipta', 'scores': [1, 2, 3, 4, 5]}\n",
      "printing sum of scores:\n",
      "15\n"
     ]
    }
   ],
   "source": [
    "#  add scores from a dictionary\n",
    "mydict={\n",
    "    \"name\":\"pradipta\",\n",
    "    \"scores\":[1,2,3,4,5]\n",
    "}\n",
    "print(mydict)\n",
    "sum=0\n",
    "print(\"printing sum of scores:\")\n",
    "for i in mydict[\"scores\"]:\n",
    "    sum=sum+i\n",
    "print(sum)"
   ]
  },
  {
   "cell_type": "code",
   "execution_count": 34,
   "metadata": {},
   "outputs": [
    {
     "name": "stdout",
     "output_type": "stream",
     "text": [
      "5\n",
      "0\n",
      "1\n",
      "2\n",
      "3\n",
      "4\n",
      "5\n"
     ]
    }
   ],
   "source": [
    "# print elements within a nested for loop\n",
    "n=int(input())\n",
    "for i in range(n+1):\n",
    "    for j in range(i+1):\n",
    "        print(i)\n",
    "        break"
   ]
  },
  {
   "cell_type": "code",
   "execution_count": 36,
   "metadata": {},
   "outputs": [
    {
     "name": "stdout",
     "output_type": "stream",
     "text": [
      "{'name': 'car', 'brand': 'ford', 'colour': 'blue', 'year': '2021'}\n"
     ]
    }
   ],
   "source": [
    "# add new items in a dictionary\n",
    "dict={\n",
    "    \"name\":\"car\",\n",
    "    \"brand\":\"ford\",\n",
    "    \"colour\":\"blue\"\n",
    "}\n",
    "dict[\"year\"]=\"2021\"\n",
    "print(dict)"
   ]
  }
 ],
 "metadata": {
  "kernelspec": {
   "display_name": "Python 3",
   "language": "python",
   "name": "python3"
  },
  "language_info": {
   "codemirror_mode": {
    "name": "ipython",
    "version": 3
   },
   "file_extension": ".py",
   "mimetype": "text/x-python",
   "name": "python",
   "nbconvert_exporter": "python",
   "pygments_lexer": "ipython3",
   "version": "3.8.5"
  }
 },
 "nbformat": 4,
 "nbformat_minor": 4
}
