{
 "cells": [
  {
   "cell_type": "code",
   "execution_count": 2,
   "metadata": {},
   "outputs": [
    {
     "name": "stdout",
     "output_type": "stream",
     "text": [
      "enter a number :4\n",
      "0100"
     ]
    }
   ],
   "source": [
    "# function to convert decimal to binary\n",
    "def DecimalToBinary(num):\n",
    "\n",
    "    if num >= 1:\n",
    "        DecimalToBinary(num // 2)\n",
    "    print(num % 2, end = '')\n",
    "\n",
    "# Driver Code\n",
    "if __name__ == '__main__':\n",
    "    dec_val = int(input(\"enter a number :\"))\n",
    "\n",
    "    DecimalToBinary(dec_val)\n"
   ]
  },
  {
   "cell_type": "code",
   "execution_count": 6,
   "metadata": {},
   "outputs": [
    {
     "name": "stdout",
     "output_type": "stream",
     "text": [
      "splitting the array and add the first half to end: \n",
      "6 7 8 9 10 1 2 3 4 5 "
     ]
    }
   ],
   "source": [
    "# 2.Write a user defined python function to Split the array and add the first half to the end.\n",
    "\n",
    "def splitArr(arr, n, k):\n",
    "    for i in range(0, k):\n",
    "        x = arr[0]\n",
    "        for j in range(0, n-1):\n",
    "            arr[j] = arr[j + 1]\n",
    "\n",
    "        arr[n-1] = x\n",
    "\n",
    "\n",
    "# main\n",
    "arr = [1,2,3,4,5,6,7,8,9,10]\n",
    "n = len(arr)\n",
    "position = n//2\n",
    "\n",
    "splitArr(arr, n, position)\n",
    "\n",
    "print(\"splitting the array and add the first half to end: \")\n",
    "for i in range(0, n):\n",
    "    print(arr[i], end = ' ')\n",
    "\n"
   ]
  },
  {
   "cell_type": "code",
   "execution_count": 9,
   "metadata": {},
   "outputs": [
    {
     "data": {
      "text/plain": [
       "'KIIT University located at Bhubaneswar, India'"
      ]
     },
     "execution_count": 9,
     "metadata": {},
     "output_type": "execute_result"
    }
   ],
   "source": [
    "# 3.Write a python program to replace “mumbai” with “Bhubaneswar”, where the string input is\n",
    "# “KIIT University located at mumbai, India”.\n",
    "s=\"KIIT University located at mumbai, India\"\n",
    "s.replace(\"mumbai\",\"Bhubaneswar\")"
   ]
  },
  {
   "cell_type": "code",
   "execution_count": 15,
   "metadata": {},
   "outputs": [],
   "source": [
    "# Write a python program to copy the content of a file (file1.txt) to another file (file2.txt).\n",
    "with open('a.txt', 'r') as file :\n",
    "        filedata = file.read()\n",
    "with open('b.txt', 'w') as file:\n",
    "        file.write(filedata)\n",
    "# data in a.txt also come in b.txt"
   ]
  },
  {
   "cell_type": "code",
   "execution_count": null,
   "metadata": {},
   "outputs": [],
   "source": []
  },
  {
   "cell_type": "code",
   "execution_count": null,
   "metadata": {},
   "outputs": [],
   "source": []
  },
  {
   "cell_type": "code",
   "execution_count": null,
   "metadata": {},
   "outputs": [],
   "source": []
  }
 ],
 "metadata": {
  "kernelspec": {
   "display_name": "Python 3",
   "language": "python",
   "name": "python3"
  },
  "language_info": {
   "codemirror_mode": {
    "name": "ipython",
    "version": 3
   },
   "file_extension": ".py",
   "mimetype": "text/x-python",
   "name": "python",
   "nbconvert_exporter": "python",
   "pygments_lexer": "ipython3",
   "version": "3.8.5"
  }
 },
 "nbformat": 4,
 "nbformat_minor": 4
}
